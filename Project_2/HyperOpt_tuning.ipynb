{
 "cells": [
  {
   "cell_type": "markdown",
   "metadata": {
    "tags": []
   },
   "source": [
    "### Hyperparameter_Tuning\n",
    "\n",
    "Random and grid search are tuning techniques commonly used when it comes to searching and setting hyperparameter that the model may achieve much better fitting to the data. They search different sets of values defined within a search space for model hyperparameters and return a subset that results in the best performing model on a given dataset. \n",
    "\n",
    "Both hyperparameter optimizations would be as much valuable as in experimenting machine learning, however they are not without limitations. Grid search is known for \"brute-force\" approach citing to permutations applied to each pairs of values of each space group when creating collections of hyperparameters. When a search space grows in length or size, a computer would unavoidably need to test the sheer number of permutations with an exhaustive numbers of iterations to be executed. Finding the trade-off between the time required to run all of the permutations and the search capability of the optimization is a must. An alternative to grid search, random search, simultaneously test the effect of different hyperparameter subsets at the same time using random sampling of each hyperparameter group. Due to its random behaviour, its explorations on the hyperparameter space is limited. In consequence, in order to fill up the gap so that the search can arrive at a global minima, a large number of iterations would be necessary. \n",
    "\n",
    "HyperOpt is in finding the optimum sets of hyperparameter based on Bayes Theorem. A brief description \n",
    "\n",
    "\n",
    "Due to stochastic nature of HyperOpt, results may vary each time when running this procedure as their differences in numerical precision are much likely to be seen. \n"
   ]
  },
  {
   "cell_type": "code",
   "execution_count": 38,
   "metadata": {},
   "outputs": [],
   "source": [
    "import numpy as np\n",
    "import pandas as pd \n",
    "import seaborn as sns\n",
    "import matplotlib.pyplot as plt\n",
    "from sklearn.linear_model import Lasso, Ridge, RidgeCV\n",
    "from sklearn.model_selection import cross_val_score\n",
    "from statsmodels.tsa.arima.model import ARIMA\n",
    "\n",
    "plt.style.use('fivethirtyeight')"
   ]
  },
  {
   "cell_type": "code",
   "execution_count": 2,
   "metadata": {},
   "outputs": [],
   "source": [
    "from math import sqrt\n",
    "\n",
    "from statsmodels.tsa.stattools import adfuller\n",
    "from statsmodels.tsa.seasonal import seasonal_decompose\n",
    "from statsmodels.graphics.tsaplots import plot_acf, plot_pacf\n",
    "\n",
    "from sklearn.metrics import explained_variance_score, mean_absolute_error, median_absolute_error, mean_squared_error, r2_score\n",
    "import hyperopt\n",
    "from hyperopt import fmin, hp, tpe, Trials, space_eval, STATUS_OK\n",
    "from hyperopt.pyll import scope as ho_scope\n",
    "from hyperopt.pyll.stochastic import sample as ho_sample\n",
    "from functools import partial"
   ]
  },
  {
   "cell_type": "markdown",
   "metadata": {},
   "source": [
    "### Load and Prepare Data"
   ]
  },
  {
   "cell_type": "code",
   "execution_count": 4,
   "metadata": {},
   "outputs": [],
   "source": [
    "### This inferred freq is 'MS' or Month Start after successfully getting this data loaded\n",
    "data = pd.read_csv(\n",
    "        \"Internet_sales_UK_preprocessed.csv\",\n",
    "        parse_dates=[\"date\"],\n",
    "        index_col=[\"date\"],\n",
    "    )\n",
    "\n",
    "int_col = list(data.select_dtypes(\"int\").columns)\n",
    "float_col = list(data.select_dtypes(\"float\").columns)\n",
    "data[int_col] = data[int_col].astype('int16')\n",
    "data[float_col] = data[float_col].astype('float32')\n",
    "\n",
    "data['Log_KPC4'] = np.log(data['KPC4'])\n",
    "data['Log_KPB8'] = np.log(data['KPB8'])\n",
    "\n",
    "kpc4_log_diff = data['Log_KPC4'].diff()\n",
    "kpc4_log_diff = kpc4_log_diff.dropna()\n",
    "kpb8_log_diff = data['Log_KPB8'].diff()\n",
    "kpb8_log_diff = kpb8_log_diff.dropna()\n",
    "    "
   ]
  },
  {
   "cell_type": "code",
   "execution_count": 6,
   "metadata": {},
   "outputs": [],
   "source": [
    "train = data.loc[data.index < \"2019-01-01\"]\n",
    "test = data.loc[data.index >= \"2019-01-01\"]\n",
    "\n",
    "# the target variable\n",
    "y_train = train[\"KPC4\"].copy()\n",
    "y_test = test[\"KPC4\"].copy()\n",
    "\n",
    "# remove raw time series from predictors set\n",
    "X_train = train.drop(['KPC4','KPB8','KPB8_lag_1', 'KPB8_lag_3',\n",
    "                    'KPB8_lag_6', 'KPB8_lag_12',\n",
    "                    'KPB8_window_3_mean', 'KPB8_window_3_std',\n",
    "                            'KPB8_window_6_mean', 'KPB8_window_6_std'], axis=1)\n",
    "X_test = test.drop(['KPC4','KPB8','KPB8_lag_1', 'KPB8_lag_3',\n",
    "                    'KPB8_lag_6', 'KPB8_lag_12',\n",
    "                    'KPB8_window_3_mean', 'KPB8_window_3_std',\n",
    "                    'KPB8_window_6_mean', 'KPB8_window_6_std'], axis=1)    "
   ]
  },
  {
   "cell_type": "markdown",
   "metadata": {},
   "source": [
    "### Setting Up HyperOpt Experiment"
   ]
  },
  {
   "cell_type": "code",
   "execution_count": 29,
   "metadata": {},
   "outputs": [],
   "source": [
    "search_space = {   \n",
    "        'alpha': hp.uniform(\"alpha\", 0.1, 0.9),\n",
    "        'tol': hp.uniform(\"tol\", 0.0001, 0.1),\n",
    "        'fit_intercept': hp.choice('fit_intercept', [True, False]),\n",
    "        'selection': hp.choice('selection', [\"cyclic\", \"random\"])\n",
    "}"
   ]
  },
  {
   "cell_type": "code",
   "execution_count": 31,
   "metadata": {},
   "outputs": [],
   "source": [
    "def objective(params):\n",
    "    params = {\n",
    "                'alpha': params['alpha'], \n",
    "                'tol': params['tol'],\n",
    "                'fit_intercept': params['fit_intercept'],\n",
    "                'selection': params['selection']\n",
    "             }\n",
    "\n",
    "    lr = Lasso(**params)\n",
    "    score = cross_val_score(lr, X_train, y_train,\n",
    "            scoring=\"r2\", cv=5).mean()\n",
    "\n",
    "    return {'loss': score, 'status': STATUS_OK }"
   ]
  },
  {
   "cell_type": "markdown",
   "metadata": {},
   "source": [
    "If we just want to define search spaces available for different models to explore and test (and so we would have to rearrange a function objective), below shown modified codes that probably easier for others to find a model with an optimized hyperparameters in seamless way."
   ]
  },
  {
   "cell_type": "code",
   "execution_count": null,
   "metadata": {},
   "outputs": [],
   "source": [
    "### This cell is for personal testing only. This is not used througout this section \n",
    "search_space = hp.choice('classifier_type', [\n",
    "    {\n",
    "        'type': 'lasso',\n",
    "        'alpha': hp.uniform(\"alpha\", 0.1, 0.9),\n",
    "        'tol': hp.uniform(\"tol\", 0.0001, 0.001)\n",
    "    },\n",
    "    {\n",
    "        'type': 'ridge',\n",
    "        'alphas': hp.uniform(\"alphas\", 0.0001, 0.1),\n",
    "        'gcv_mode': hp.choice('gcv_mode', [\"auto\", \"svd\", \"eigen\"]),\n",
    "        'fit_intercept': hp.choice('fit_intercept', [True, False])\n",
    "    },\n",
    "])\n",
    "\n",
    "def objective(params):\n",
    "\n",
    "    regression_type = params['type']\n",
    "    del params['type']\n",
    "    if regression_type == 'lasso':\n",
    "        lr = Lasso(**params)\n",
    "    elif regression_type == 'ridge':\n",
    "        lr = RidgeCV(**params)\n",
    "    else:\n",
    "        return 0\n",
    "\n",
    "    score = cross_val_score(lr, X_train, y_train, scoring=\"r2\", cv=5).mean()\n",
    "\n",
    "    # Because fmin() tries to minimize the objective, this function must return the negative accuracy. \n",
    "    return {'loss': score, 'status': STATUS_OK}"
   ]
  },
  {
   "cell_type": "markdown",
   "metadata": {},
   "source": [
    "### Running HyperOpt Experiment"
   ]
  },
  {
   "cell_type": "markdown",
   "metadata": {},
   "source": [
    "#### Lasso"
   ]
  },
  {
   "cell_type": "code",
   "execution_count": 32,
   "metadata": {
    "scrolled": true,
    "tags": []
   },
   "outputs": [
    {
     "name": "stdout",
     "output_type": "stream",
     "text": [
      "100%|█████████████████████████████████████████████| 100/100 [00:03<00:00, 25.29trial/s, best loss: -13.527628648149411]\n"
     ]
    }
   ],
   "source": [
    "best_result_lasso = fmin(\n",
    "                fn=objective, \n",
    "                space=search_space,\n",
    "                algo=tpe.suggest,\n",
    "                trials=Trials(),\n",
    "                max_evals=100)"
   ]
  },
  {
   "cell_type": "code",
   "execution_count": 34,
   "metadata": {},
   "outputs": [
    {
     "data": {
      "text/plain": [
       "{'alpha': 0.5827499074887039,\n",
       " 'fit_intercept': False,\n",
       " 'selection': 'random',\n",
       " 'tol': 0.06623517909765843}"
      ]
     },
     "execution_count": 34,
     "metadata": {},
     "output_type": "execute_result"
    }
   ],
   "source": [
    "hyperopt.space_eval(search_space, best_result_lasso)"
   ]
  },
  {
   "cell_type": "markdown",
   "metadata": {},
   "source": [
    "#### Ridge"
   ]
  },
  {
   "cell_type": "code",
   "execution_count": 53,
   "metadata": {},
   "outputs": [],
   "source": [
    "search_space = {   \n",
    "        'alpha': hp.uniform(\"alpha\", 0.0001, 0.1),\n",
    "        'solver': hp.choice('solver', [\"svd\", \"cholesky\", \"lsqr\", \"sparse_cg\", \"sag\", \"saga\", \"auto\"]),\n",
    "        'tol': hp.uniform(\"tol\", 0.0001, 0.1),\n",
    "        'fit_intercept': hp.choice('fit_intercept', [True, False]),\n",
    "}"
   ]
  },
  {
   "cell_type": "code",
   "execution_count": 54,
   "metadata": {},
   "outputs": [],
   "source": [
    "def objective(params):\n",
    "    params = {\n",
    "                'alpha': params['alpha'], \n",
    "                'solver': params['solver'],\n",
    "                'tol': params['tol'],\n",
    "                'fit_intercept': params['fit_intercept']\n",
    "             }\n",
    "\n",
    "    lr = Ridge(**params)\n",
    "    score = cross_val_score(lr, X_train, y_train,\n",
    "            scoring=\"r2\", cv=5).mean()\n",
    "\n",
    "    return {'loss': score, 'status': STATUS_OK }"
   ]
  },
  {
   "cell_type": "code",
   "execution_count": 55,
   "metadata": {
    "scrolled": true,
    "tags": []
   },
   "outputs": [
    {
     "name": "stdout",
     "output_type": "stream",
     "text": [
      "  6%|██▉                                             | 6/100 [00:00<00:03, 29.60trial/s, best loss: 0.8586935407269204]"
     ]
    },
    {
     "name": "stderr",
     "output_type": "stream",
     "text": [
      "C:\\Users\\rizdi\\miniconda3\\envs\\feature_engineering\\lib\\site-packages\\sklearn\\linear_model\\_ridge.py:212: LinAlgWarning: Ill-conditioned matrix (rcond=4.8768e-09): result may not be accurate.\n",
      "  return linalg.solve(A, Xy, sym_pos=True, overwrite_a=True).T\n",
      "\n",
      "C:\\Users\\rizdi\\miniconda3\\envs\\feature_engineering\\lib\\site-packages\\sklearn\\linear_model\\_ridge.py:212: LinAlgWarning: Ill-conditioned matrix (rcond=7.28947e-09): result may not be accurate.\n",
      "  return linalg.solve(A, Xy, sym_pos=True, overwrite_a=True).T\n",
      "\n",
      "C:\\Users\\rizdi\\miniconda3\\envs\\feature_engineering\\lib\\site-packages\\sklearn\\linear_model\\_ridge.py:212: LinAlgWarning: Ill-conditioned matrix (rcond=7.1012e-09): result may not be accurate.\n",
      "  return linalg.solve(A, Xy, sym_pos=True, overwrite_a=True).T\n",
      "\n",
      "C:\\Users\\rizdi\\miniconda3\\envs\\feature_engineering\\lib\\site-packages\\sklearn\\linear_model\\_ridge.py:212: LinAlgWarning: Ill-conditioned matrix (rcond=6.83091e-09): result may not be accurate.\n",
      "  return linalg.solve(A, Xy, sym_pos=True, overwrite_a=True).T\n",
      "\n",
      "C:\\Users\\rizdi\\miniconda3\\envs\\feature_engineering\\lib\\site-packages\\sklearn\\linear_model\\_ridge.py:212: LinAlgWarning: Ill-conditioned matrix (rcond=4.58853e-09): result may not be accurate.\n",
      "  return linalg.solve(A, Xy, sym_pos=True, overwrite_a=True).T\n",
      "\n"
     ]
    },
    {
     "name": "stdout",
     "output_type": "stream",
     "text": [
      "  9%|████▎                                           | 9/100 [00:00<00:03, 28.47trial/s, best loss: 0.7811918087739963]"
     ]
    },
    {
     "name": "stderr",
     "output_type": "stream",
     "text": [
      "C:\\Users\\rizdi\\miniconda3\\envs\\feature_engineering\\lib\\site-packages\\sklearn\\linear_model\\_ridge.py:212: LinAlgWarning: Ill-conditioned matrix (rcond=2.14785e-08): result may not be accurate.\n",
      "  return linalg.solve(A, Xy, sym_pos=True, overwrite_a=True).T\n",
      "\n",
      "C:\\Users\\rizdi\\miniconda3\\envs\\feature_engineering\\lib\\site-packages\\sklearn\\linear_model\\_ridge.py:212: LinAlgWarning: Ill-conditioned matrix (rcond=2.12612e-08): result may not be accurate.\n",
      "  return linalg.solve(A, Xy, sym_pos=True, overwrite_a=True).T\n",
      "\n",
      "C:\\Users\\rizdi\\miniconda3\\envs\\feature_engineering\\lib\\site-packages\\sklearn\\linear_model\\_ridge.py:212: LinAlgWarning: Ill-conditioned matrix (rcond=2.16193e-08): result may not be accurate.\n",
      "  return linalg.solve(A, Xy, sym_pos=True, overwrite_a=True).T\n",
      "\n",
      "C:\\Users\\rizdi\\miniconda3\\envs\\feature_engineering\\lib\\site-packages\\sklearn\\linear_model\\_ridge.py:212: LinAlgWarning: Ill-conditioned matrix (rcond=2.18079e-08): result may not be accurate.\n",
      "  return linalg.solve(A, Xy, sym_pos=True, overwrite_a=True).T\n",
      "\n",
      "C:\\Users\\rizdi\\miniconda3\\envs\\feature_engineering\\lib\\site-packages\\sklearn\\linear_model\\_ridge.py:212: LinAlgWarning: Ill-conditioned matrix (rcond=2.18308e-08): result may not be accurate.\n",
      "  return linalg.solve(A, Xy, sym_pos=True, overwrite_a=True).T\n",
      "\n",
      "C:\\Users\\rizdi\\miniconda3\\envs\\feature_engineering\\lib\\site-packages\\sklearn\\linear_model\\_ridge.py:212: LinAlgWarning: Ill-conditioned matrix (rcond=8.13101e-09): result may not be accurate.\n",
      "  return linalg.solve(A, Xy, sym_pos=True, overwrite_a=True).T\n",
      "\n",
      "C:\\Users\\rizdi\\miniconda3\\envs\\feature_engineering\\lib\\site-packages\\sklearn\\linear_model\\_ridge.py:212: LinAlgWarning: Ill-conditioned matrix (rcond=1.10527e-08): result may not be accurate.\n",
      "  return linalg.solve(A, Xy, sym_pos=True, overwrite_a=True).T\n",
      "\n",
      "C:\\Users\\rizdi\\miniconda3\\envs\\feature_engineering\\lib\\site-packages\\sklearn\\linear_model\\_ridge.py:212: LinAlgWarning: Ill-conditioned matrix (rcond=1.04763e-08): result may not be accurate.\n",
      "  return linalg.solve(A, Xy, sym_pos=True, overwrite_a=True).T\n",
      "\n",
      "C:\\Users\\rizdi\\miniconda3\\envs\\feature_engineering\\lib\\site-packages\\sklearn\\linear_model\\_ridge.py:212: LinAlgWarning: Ill-conditioned matrix (rcond=1.04212e-08): result may not be accurate.\n",
      "  return linalg.solve(A, Xy, sym_pos=True, overwrite_a=True).T\n",
      "\n",
      "C:\\Users\\rizdi\\miniconda3\\envs\\feature_engineering\\lib\\site-packages\\sklearn\\linear_model\\_ridge.py:212: LinAlgWarning: Ill-conditioned matrix (rcond=8.30993e-09): result may not be accurate.\n",
      "  return linalg.solve(A, Xy, sym_pos=True, overwrite_a=True).T\n",
      "\n"
     ]
    },
    {
     "name": "stdout",
     "output_type": "stream",
     "text": [
      " 18%|████████▍                                      | 18/100 [00:00<00:03, 26.16trial/s, best loss: 0.7811918087739963]"
     ]
    },
    {
     "name": "stderr",
     "output_type": "stream",
     "text": [
      "C:\\Users\\rizdi\\miniconda3\\envs\\feature_engineering\\lib\\site-packages\\sklearn\\linear_model\\_ridge.py:212: LinAlgWarning: Ill-conditioned matrix (rcond=3.42671e-09): result may not be accurate.\n",
      "  return linalg.solve(A, Xy, sym_pos=True, overwrite_a=True).T\n",
      "\n",
      "C:\\Users\\rizdi\\miniconda3\\envs\\feature_engineering\\lib\\site-packages\\sklearn\\linear_model\\_ridge.py:212: LinAlgWarning: Ill-conditioned matrix (rcond=5.55958e-09): result may not be accurate.\n",
      "  return linalg.solve(A, Xy, sym_pos=True, overwrite_a=True).T\n",
      "\n",
      "C:\\Users\\rizdi\\miniconda3\\envs\\feature_engineering\\lib\\site-packages\\sklearn\\linear_model\\_ridge.py:212: LinAlgWarning: Ill-conditioned matrix (rcond=5.58324e-09): result may not be accurate.\n",
      "  return linalg.solve(A, Xy, sym_pos=True, overwrite_a=True).T\n",
      "\n",
      "C:\\Users\\rizdi\\miniconda3\\envs\\feature_engineering\\lib\\site-packages\\sklearn\\linear_model\\_ridge.py:212: LinAlgWarning: Ill-conditioned matrix (rcond=5.08318e-09): result may not be accurate.\n",
      "  return linalg.solve(A, Xy, sym_pos=True, overwrite_a=True).T\n",
      "\n",
      "C:\\Users\\rizdi\\miniconda3\\envs\\feature_engineering\\lib\\site-packages\\sklearn\\linear_model\\_ridge.py:212: LinAlgWarning: Ill-conditioned matrix (rcond=2.93406e-09): result may not be accurate.\n",
      "  return linalg.solve(A, Xy, sym_pos=True, overwrite_a=True).T\n",
      "\n"
     ]
    },
    {
     "name": "stdout",
     "output_type": "stream",
     "text": [
      " 24%|███████████▌                                    | 24/100 [00:00<00:03, 23.23trial/s, best loss: 0.760691295422701]"
     ]
    },
    {
     "name": "stderr",
     "output_type": "stream",
     "text": [
      "C:\\Users\\rizdi\\miniconda3\\envs\\feature_engineering\\lib\\site-packages\\sklearn\\linear_model\\_ridge.py:212: LinAlgWarning: Ill-conditioned matrix (rcond=1.79104e-08): result may not be accurate.\n",
      "  return linalg.solve(A, Xy, sym_pos=True, overwrite_a=True).T\n",
      "\n",
      "C:\\Users\\rizdi\\miniconda3\\envs\\feature_engineering\\lib\\site-packages\\sklearn\\linear_model\\_ridge.py:212: LinAlgWarning: Ill-conditioned matrix (rcond=1.77293e-08): result may not be accurate.\n",
      "  return linalg.solve(A, Xy, sym_pos=True, overwrite_a=True).T\n",
      "\n",
      "C:\\Users\\rizdi\\miniconda3\\envs\\feature_engineering\\lib\\site-packages\\sklearn\\linear_model\\_ridge.py:212: LinAlgWarning: Ill-conditioned matrix (rcond=1.80278e-08): result may not be accurate.\n",
      "  return linalg.solve(A, Xy, sym_pos=True, overwrite_a=True).T\n",
      "\n",
      "C:\\Users\\rizdi\\miniconda3\\envs\\feature_engineering\\lib\\site-packages\\sklearn\\linear_model\\_ridge.py:212: LinAlgWarning: Ill-conditioned matrix (rcond=1.81852e-08): result may not be accurate.\n",
      "  return linalg.solve(A, Xy, sym_pos=True, overwrite_a=True).T\n",
      "\n",
      "C:\\Users\\rizdi\\miniconda3\\envs\\feature_engineering\\lib\\site-packages\\sklearn\\linear_model\\_ridge.py:212: LinAlgWarning: Ill-conditioned matrix (rcond=1.82043e-08): result may not be accurate.\n",
      "  return linalg.solve(A, Xy, sym_pos=True, overwrite_a=True).T\n",
      "\n",
      "C:\\Users\\rizdi\\miniconda3\\envs\\feature_engineering\\lib\\site-packages\\sklearn\\linear_model\\_ridge.py:212: LinAlgWarning: Ill-conditioned matrix (rcond=2.14782e-08): result may not be accurate.\n",
      "  return linalg.solve(A, Xy, sym_pos=True, overwrite_a=True).T\n",
      "\n",
      "C:\\Users\\rizdi\\miniconda3\\envs\\feature_engineering\\lib\\site-packages\\sklearn\\linear_model\\_ridge.py:212: LinAlgWarning: Ill-conditioned matrix (rcond=2.12609e-08): result may not be accurate.\n",
      "  return linalg.solve(A, Xy, sym_pos=True, overwrite_a=True).T\n",
      "\n",
      "C:\\Users\\rizdi\\miniconda3\\envs\\feature_engineering\\lib\\site-packages\\sklearn\\linear_model\\_ridge.py:212: LinAlgWarning: Ill-conditioned matrix (rcond=2.1619e-08): result may not be accurate.\n",
      "  return linalg.solve(A, Xy, sym_pos=True, overwrite_a=True).T\n",
      "\n",
      "C:\\Users\\rizdi\\miniconda3\\envs\\feature_engineering\\lib\\site-packages\\sklearn\\linear_model\\_ridge.py:212: LinAlgWarning: Ill-conditioned matrix (rcond=2.18077e-08): result may not be accurate.\n",
      "  return linalg.solve(A, Xy, sym_pos=True, overwrite_a=True).T\n",
      "\n",
      "C:\\Users\\rizdi\\miniconda3\\envs\\feature_engineering\\lib\\site-packages\\sklearn\\linear_model\\_ridge.py:212: LinAlgWarning: Ill-conditioned matrix (rcond=2.18306e-08): result may not be accurate.\n",
      "  return linalg.solve(A, Xy, sym_pos=True, overwrite_a=True).T\n",
      "\n",
      "C:\\Users\\rizdi\\miniconda3\\envs\\feature_engineering\\lib\\site-packages\\sklearn\\linear_model\\_ridge.py:212: LinAlgWarning: Ill-conditioned matrix (rcond=1.56368e-08): result may not be accurate.\n",
      "  return linalg.solve(A, Xy, sym_pos=True, overwrite_a=True).T\n",
      "\n",
      "C:\\Users\\rizdi\\miniconda3\\envs\\feature_engineering\\lib\\site-packages\\sklearn\\linear_model\\_ridge.py:212: LinAlgWarning: Ill-conditioned matrix (rcond=1.54786e-08): result may not be accurate.\n",
      "  return linalg.solve(A, Xy, sym_pos=True, overwrite_a=True).T\n",
      "\n",
      "C:\\Users\\rizdi\\miniconda3\\envs\\feature_engineering\\lib\\site-packages\\sklearn\\linear_model\\_ridge.py:212: LinAlgWarning: Ill-conditioned matrix (rcond=1.57392e-08): result may not be accurate.\n",
      "  return linalg.solve(A, Xy, sym_pos=True, overwrite_a=True).T\n",
      "\n",
      "C:\\Users\\rizdi\\miniconda3\\envs\\feature_engineering\\lib\\site-packages\\sklearn\\linear_model\\_ridge.py:212: LinAlgWarning: Ill-conditioned matrix (rcond=1.58766e-08): result may not be accurate.\n",
      "  return linalg.solve(A, Xy, sym_pos=True, overwrite_a=True).T\n",
      "\n",
      "C:\\Users\\rizdi\\miniconda3\\envs\\feature_engineering\\lib\\site-packages\\sklearn\\linear_model\\_ridge.py:212: LinAlgWarning: Ill-conditioned matrix (rcond=1.58933e-08): result may not be accurate.\n",
      "  return linalg.solve(A, Xy, sym_pos=True, overwrite_a=True).T\n",
      "\n",
      "C:\\Users\\rizdi\\miniconda3\\envs\\feature_engineering\\lib\\site-packages\\sklearn\\linear_model\\_ridge.py:212: LinAlgWarning: Ill-conditioned matrix (rcond=1.41326e-08): result may not be accurate.\n",
      "  return linalg.solve(A, Xy, sym_pos=True, overwrite_a=True).T\n",
      "\n",
      "C:\\Users\\rizdi\\miniconda3\\envs\\feature_engineering\\lib\\site-packages\\sklearn\\linear_model\\_ridge.py:212: LinAlgWarning: Ill-conditioned matrix (rcond=1.39896e-08): result may not be accurate.\n",
      "  return linalg.solve(A, Xy, sym_pos=True, overwrite_a=True).T\n",
      "\n",
      "C:\\Users\\rizdi\\miniconda3\\envs\\feature_engineering\\lib\\site-packages\\sklearn\\linear_model\\_ridge.py:212: LinAlgWarning: Ill-conditioned matrix (rcond=1.42252e-08): result may not be accurate.\n",
      "  return linalg.solve(A, Xy, sym_pos=True, overwrite_a=True).T\n",
      "\n",
      "C:\\Users\\rizdi\\miniconda3\\envs\\feature_engineering\\lib\\site-packages\\sklearn\\linear_model\\_ridge.py:212: LinAlgWarning: Ill-conditioned matrix (rcond=1.43493e-08): result may not be accurate.\n",
      "  return linalg.solve(A, Xy, sym_pos=True, overwrite_a=True).T\n",
      "\n",
      "C:\\Users\\rizdi\\miniconda3\\envs\\feature_engineering\\lib\\site-packages\\sklearn\\linear_model\\_ridge.py:212: LinAlgWarning: Ill-conditioned matrix (rcond=1.43644e-08): result may not be accurate.\n",
      "  return linalg.solve(A, Xy, sym_pos=True, overwrite_a=True).T\n",
      "\n",
      "C:\\Users\\rizdi\\miniconda3\\envs\\feature_engineering\\lib\\site-packages\\sklearn\\linear_model\\_sag.py:350: ConvergenceWarning: The max_iter was reached which means the coef_ did not converge\n",
      "  warnings.warn(\n",
      "\n",
      "C:\\Users\\rizdi\\miniconda3\\envs\\feature_engineering\\lib\\site-packages\\sklearn\\linear_model\\_sag.py:350: ConvergenceWarning: The max_iter was reached which means the coef_ did not converge\n",
      "  warnings.warn(\n",
      "\n",
      "C:\\Users\\rizdi\\miniconda3\\envs\\feature_engineering\\lib\\site-packages\\sklearn\\linear_model\\_sag.py:350: ConvergenceWarning: The max_iter was reached which means the coef_ did not converge\n",
      "  warnings.warn(\n",
      "\n",
      "C:\\Users\\rizdi\\miniconda3\\envs\\feature_engineering\\lib\\site-packages\\sklearn\\linear_model\\_sag.py:350: ConvergenceWarning: The max_iter was reached which means the coef_ did not converge\n",
      "  warnings.warn(\n",
      "\n",
      "C:\\Users\\rizdi\\miniconda3\\envs\\feature_engineering\\lib\\site-packages\\sklearn\\linear_model\\_sag.py:350: ConvergenceWarning: The max_iter was reached which means the coef_ did not converge\n",
      "  warnings.warn(\n",
      "\n",
      "C:\\Users\\rizdi\\miniconda3\\envs\\feature_engineering\\lib\\site-packages\\sklearn\\linear_model\\_ridge.py:212: LinAlgWarning: Ill-conditioned matrix (rcond=3.15663e-08): result may not be accurate.\n",
      "  return linalg.solve(A, Xy, sym_pos=True, overwrite_a=True).T\n",
      "\n",
      "C:\\Users\\rizdi\\miniconda3\\envs\\feature_engineering\\lib\\site-packages\\sklearn\\linear_model\\_ridge.py:212: LinAlgWarning: Ill-conditioned matrix (rcond=3.1247e-08): result may not be accurate.\n",
      "  return linalg.solve(A, Xy, sym_pos=True, overwrite_a=True).T\n",
      "\n",
      "C:\\Users\\rizdi\\miniconda3\\envs\\feature_engineering\\lib\\site-packages\\sklearn\\linear_model\\_ridge.py:212: LinAlgWarning: Ill-conditioned matrix (rcond=3.17732e-08): result may not be accurate.\n",
      "  return linalg.solve(A, Xy, sym_pos=True, overwrite_a=True).T\n",
      "\n",
      "C:\\Users\\rizdi\\miniconda3\\envs\\feature_engineering\\lib\\site-packages\\sklearn\\linear_model\\_ridge.py:212: LinAlgWarning: Ill-conditioned matrix (rcond=3.20506e-08): result may not be accurate.\n",
      "  return linalg.solve(A, Xy, sym_pos=True, overwrite_a=True).T\n",
      "\n",
      "C:\\Users\\rizdi\\miniconda3\\envs\\feature_engineering\\lib\\site-packages\\sklearn\\linear_model\\_ridge.py:212: LinAlgWarning: Ill-conditioned matrix (rcond=3.20842e-08): result may not be accurate.\n",
      "  return linalg.solve(A, Xy, sym_pos=True, overwrite_a=True).T\n",
      "\n",
      "C:\\Users\\rizdi\\miniconda3\\envs\\feature_engineering\\lib\\site-packages\\sklearn\\linear_model\\_ridge.py:212: LinAlgWarning: Ill-conditioned matrix (rcond=1.33035e-08): result may not be accurate.\n",
      "  return linalg.solve(A, Xy, sym_pos=True, overwrite_a=True).T\n",
      "\n",
      "C:\\Users\\rizdi\\miniconda3\\envs\\feature_engineering\\lib\\site-packages\\sklearn\\linear_model\\_ridge.py:212: LinAlgWarning: Ill-conditioned matrix (rcond=1.3169e-08): result may not be accurate.\n",
      "  return linalg.solve(A, Xy, sym_pos=True, overwrite_a=True).T\n",
      "\n",
      "C:\\Users\\rizdi\\miniconda3\\envs\\feature_engineering\\lib\\site-packages\\sklearn\\linear_model\\_ridge.py:212: LinAlgWarning: Ill-conditioned matrix (rcond=1.33907e-08): result may not be accurate.\n",
      "  return linalg.solve(A, Xy, sym_pos=True, overwrite_a=True).T\n",
      "\n",
      "C:\\Users\\rizdi\\miniconda3\\envs\\feature_engineering\\lib\\site-packages\\sklearn\\linear_model\\_ridge.py:212: LinAlgWarning: Ill-conditioned matrix (rcond=1.35076e-08): result may not be accurate.\n",
      "  return linalg.solve(A, Xy, sym_pos=True, overwrite_a=True).T\n",
      "\n",
      "C:\\Users\\rizdi\\miniconda3\\envs\\feature_engineering\\lib\\site-packages\\sklearn\\linear_model\\_ridge.py:212: LinAlgWarning: Ill-conditioned matrix (rcond=1.35218e-08): result may not be accurate.\n",
      "  return linalg.solve(A, Xy, sym_pos=True, overwrite_a=True).T\n",
      "\n"
     ]
    },
    {
     "name": "stdout",
     "output_type": "stream",
     "text": [
      " 30%|██████████████▍                                 | 30/100 [00:01<00:03, 19.72trial/s, best loss: 0.725202594358995]"
     ]
    },
    {
     "name": "stderr",
     "output_type": "stream",
     "text": [
      "C:\\Users\\rizdi\\miniconda3\\envs\\feature_engineering\\lib\\site-packages\\sklearn\\linear_model\\_ridge.py:212: LinAlgWarning: Ill-conditioned matrix (rcond=7.97562e-09): result may not be accurate.\n",
      "  return linalg.solve(A, Xy, sym_pos=True, overwrite_a=True).T\n",
      "\n",
      "C:\\Users\\rizdi\\miniconda3\\envs\\feature_engineering\\lib\\site-packages\\sklearn\\linear_model\\_ridge.py:212: LinAlgWarning: Ill-conditioned matrix (rcond=7.89493e-09): result may not be accurate.\n",
      "  return linalg.solve(A, Xy, sym_pos=True, overwrite_a=True).T\n",
      "\n",
      "C:\\Users\\rizdi\\miniconda3\\envs\\feature_engineering\\lib\\site-packages\\sklearn\\linear_model\\_ridge.py:212: LinAlgWarning: Ill-conditioned matrix (rcond=8.02789e-09): result may not be accurate.\n",
      "  return linalg.solve(A, Xy, sym_pos=True, overwrite_a=True).T\n",
      "\n",
      "C:\\Users\\rizdi\\miniconda3\\envs\\feature_engineering\\lib\\site-packages\\sklearn\\linear_model\\_ridge.py:212: LinAlgWarning: Ill-conditioned matrix (rcond=8.09796e-09): result may not be accurate.\n",
      "  return linalg.solve(A, Xy, sym_pos=True, overwrite_a=True).T\n",
      "\n",
      "C:\\Users\\rizdi\\miniconda3\\envs\\feature_engineering\\lib\\site-packages\\sklearn\\linear_model\\_ridge.py:212: LinAlgWarning: Ill-conditioned matrix (rcond=8.10647e-09): result may not be accurate.\n",
      "  return linalg.solve(A, Xy, sym_pos=True, overwrite_a=True).T\n",
      "\n",
      "C:\\Users\\rizdi\\miniconda3\\envs\\feature_engineering\\lib\\site-packages\\sklearn\\linear_model\\_ridge.py:212: LinAlgWarning: Ill-conditioned matrix (rcond=6.65295e-09): result may not be accurate.\n",
      "  return linalg.solve(A, Xy, sym_pos=True, overwrite_a=True).T\n",
      "\n",
      "C:\\Users\\rizdi\\miniconda3\\envs\\feature_engineering\\lib\\site-packages\\sklearn\\linear_model\\_ridge.py:212: LinAlgWarning: Ill-conditioned matrix (rcond=6.58564e-09): result may not be accurate.\n",
      "  return linalg.solve(A, Xy, sym_pos=True, overwrite_a=True).T\n",
      "\n",
      "C:\\Users\\rizdi\\miniconda3\\envs\\feature_engineering\\lib\\site-packages\\sklearn\\linear_model\\_ridge.py:212: LinAlgWarning: Ill-conditioned matrix (rcond=6.69655e-09): result may not be accurate.\n",
      "  return linalg.solve(A, Xy, sym_pos=True, overwrite_a=True).T\n",
      "\n",
      "C:\\Users\\rizdi\\miniconda3\\envs\\feature_engineering\\lib\\site-packages\\sklearn\\linear_model\\_ridge.py:212: LinAlgWarning: Ill-conditioned matrix (rcond=6.755e-09): result may not be accurate.\n",
      "  return linalg.solve(A, Xy, sym_pos=True, overwrite_a=True).T\n",
      "\n",
      "C:\\Users\\rizdi\\miniconda3\\envs\\feature_engineering\\lib\\site-packages\\sklearn\\linear_model\\_ridge.py:212: LinAlgWarning: Ill-conditioned matrix (rcond=6.76209e-09): result may not be accurate.\n",
      "  return linalg.solve(A, Xy, sym_pos=True, overwrite_a=True).T\n",
      "\n"
     ]
    },
    {
     "name": "stdout",
     "output_type": "stream",
     "text": [
      " 45%|█████████████████████▏                         | 45/100 [00:01<00:02, 24.59trial/s, best loss: 0.6778398822411266]"
     ]
    },
    {
     "name": "stderr",
     "output_type": "stream",
     "text": [
      "C:\\Users\\rizdi\\miniconda3\\envs\\feature_engineering\\lib\\site-packages\\sklearn\\linear_model\\_ridge.py:212: LinAlgWarning: Ill-conditioned matrix (rcond=4.43386e-09): result may not be accurate.\n",
      "  return linalg.solve(A, Xy, sym_pos=True, overwrite_a=True).T\n",
      "\n",
      "C:\\Users\\rizdi\\miniconda3\\envs\\feature_engineering\\lib\\site-packages\\sklearn\\linear_model\\_ridge.py:212: LinAlgWarning: Ill-conditioned matrix (rcond=6.74724e-09): result may not be accurate.\n",
      "  return linalg.solve(A, Xy, sym_pos=True, overwrite_a=True).T\n",
      "\n",
      "C:\\Users\\rizdi\\miniconda3\\envs\\feature_engineering\\lib\\site-packages\\sklearn\\linear_model\\_ridge.py:212: LinAlgWarning: Ill-conditioned matrix (rcond=6.63112e-09): result may not be accurate.\n",
      "  return linalg.solve(A, Xy, sym_pos=True, overwrite_a=True).T\n",
      "\n",
      "C:\\Users\\rizdi\\miniconda3\\envs\\feature_engineering\\lib\\site-packages\\sklearn\\linear_model\\_ridge.py:212: LinAlgWarning: Ill-conditioned matrix (rcond=6.31351e-09): result may not be accurate.\n",
      "  return linalg.solve(A, Xy, sym_pos=True, overwrite_a=True).T\n",
      "\n",
      "C:\\Users\\rizdi\\miniconda3\\envs\\feature_engineering\\lib\\site-packages\\sklearn\\linear_model\\_ridge.py:212: LinAlgWarning: Ill-conditioned matrix (rcond=4.07553e-09): result may not be accurate.\n",
      "  return linalg.solve(A, Xy, sym_pos=True, overwrite_a=True).T\n",
      "\n",
      "C:\\Users\\rizdi\\miniconda3\\envs\\feature_engineering\\lib\\site-packages\\sklearn\\linear_model\\_ridge.py:212: LinAlgWarning: Ill-conditioned matrix (rcond=7.10269e-09): result may not be accurate.\n",
      "  return linalg.solve(A, Xy, sym_pos=True, overwrite_a=True).T\n",
      "\n",
      "C:\\Users\\rizdi\\miniconda3\\envs\\feature_engineering\\lib\\site-packages\\sklearn\\linear_model\\_ridge.py:212: LinAlgWarning: Ill-conditioned matrix (rcond=9.97767e-09): result may not be accurate.\n",
      "  return linalg.solve(A, Xy, sym_pos=True, overwrite_a=True).T\n",
      "\n",
      "C:\\Users\\rizdi\\miniconda3\\envs\\feature_engineering\\lib\\site-packages\\sklearn\\linear_model\\_ridge.py:212: LinAlgWarning: Ill-conditioned matrix (rcond=9.41737e-09): result may not be accurate.\n",
      "  return linalg.solve(A, Xy, sym_pos=True, overwrite_a=True).T\n",
      "\n",
      "C:\\Users\\rizdi\\miniconda3\\envs\\feature_engineering\\lib\\site-packages\\sklearn\\linear_model\\_ridge.py:212: LinAlgWarning: Ill-conditioned matrix (rcond=9.28763e-09): result may not be accurate.\n",
      "  return linalg.solve(A, Xy, sym_pos=True, overwrite_a=True).T\n",
      "\n",
      "C:\\Users\\rizdi\\miniconda3\\envs\\feature_engineering\\lib\\site-packages\\sklearn\\linear_model\\_ridge.py:212: LinAlgWarning: Ill-conditioned matrix (rcond=7.12658e-09): result may not be accurate.\n",
      "  return linalg.solve(A, Xy, sym_pos=True, overwrite_a=True).T\n",
      "\n"
     ]
    },
    {
     "name": "stdout",
     "output_type": "stream",
     "text": [
      " 66%|██████████████████████████████▎               | 66/100 [00:02<00:01, 24.22trial/s, best loss: -3.8113374663402504]"
     ]
    },
    {
     "name": "stderr",
     "output_type": "stream",
     "text": [
      "C:\\Users\\rizdi\\miniconda3\\envs\\feature_engineering\\lib\\site-packages\\sklearn\\linear_model\\_ridge.py:212: LinAlgWarning: Ill-conditioned matrix (rcond=8.53563e-09): result may not be accurate.\n",
      "  return linalg.solve(A, Xy, sym_pos=True, overwrite_a=True).T\n",
      "\n",
      "C:\\Users\\rizdi\\miniconda3\\envs\\feature_engineering\\lib\\site-packages\\sklearn\\linear_model\\_ridge.py:212: LinAlgWarning: Ill-conditioned matrix (rcond=1.14702e-08): result may not be accurate.\n",
      "  return linalg.solve(A, Xy, sym_pos=True, overwrite_a=True).T\n",
      "\n",
      "C:\\Users\\rizdi\\miniconda3\\envs\\feature_engineering\\lib\\site-packages\\sklearn\\linear_model\\_ridge.py:212: LinAlgWarning: Ill-conditioned matrix (rcond=1.09019e-08): result may not be accurate.\n",
      "  return linalg.solve(A, Xy, sym_pos=True, overwrite_a=True).T\n",
      "\n",
      "C:\\Users\\rizdi\\miniconda3\\envs\\feature_engineering\\lib\\site-packages\\sklearn\\linear_model\\_ridge.py:212: LinAlgWarning: Ill-conditioned matrix (rcond=1.08615e-08): result may not be accurate.\n",
      "  return linalg.solve(A, Xy, sym_pos=True, overwrite_a=True).T\n",
      "\n",
      "C:\\Users\\rizdi\\miniconda3\\envs\\feature_engineering\\lib\\site-packages\\sklearn\\linear_model\\_ridge.py:212: LinAlgWarning: Ill-conditioned matrix (rcond=8.76928e-09): result may not be accurate.\n",
      "  return linalg.solve(A, Xy, sym_pos=True, overwrite_a=True).T\n",
      "\n"
     ]
    },
    {
     "name": "stdout",
     "output_type": "stream",
     "text": [
      " 78%|███████████████████████████████████▉          | 78/100 [00:03<00:00, 25.04trial/s, best loss: -3.8113374663402504]"
     ]
    },
    {
     "name": "stderr",
     "output_type": "stream",
     "text": [
      "C:\\Users\\rizdi\\miniconda3\\envs\\feature_engineering\\lib\\site-packages\\sklearn\\linear_model\\_ridge.py:212: LinAlgWarning: Ill-conditioned matrix (rcond=5.92208e-09): result may not be accurate.\n",
      "  return linalg.solve(A, Xy, sym_pos=True, overwrite_a=True).T\n",
      "\n",
      "C:\\Users\\rizdi\\miniconda3\\envs\\feature_engineering\\lib\\site-packages\\sklearn\\linear_model\\_ridge.py:212: LinAlgWarning: Ill-conditioned matrix (rcond=8.5472e-09): result may not be accurate.\n",
      "  return linalg.solve(A, Xy, sym_pos=True, overwrite_a=True).T\n",
      "\n",
      "C:\\Users\\rizdi\\miniconda3\\envs\\feature_engineering\\lib\\site-packages\\sklearn\\linear_model\\_ridge.py:212: LinAlgWarning: Ill-conditioned matrix (rcond=8.19031e-09): result may not be accurate.\n",
      "  return linalg.solve(A, Xy, sym_pos=True, overwrite_a=True).T\n",
      "\n",
      "C:\\Users\\rizdi\\miniconda3\\envs\\feature_engineering\\lib\\site-packages\\sklearn\\linear_model\\_ridge.py:212: LinAlgWarning: Ill-conditioned matrix (rcond=7.99176e-09): result may not be accurate.\n",
      "  return linalg.solve(A, Xy, sym_pos=True, overwrite_a=True).T\n",
      "\n",
      "C:\\Users\\rizdi\\miniconda3\\envs\\feature_engineering\\lib\\site-packages\\sklearn\\linear_model\\_ridge.py:212: LinAlgWarning: Ill-conditioned matrix (rcond=5.78115e-09): result may not be accurate.\n",
      "  return linalg.solve(A, Xy, sym_pos=True, overwrite_a=True).T\n",
      "\n",
      "C:\\Users\\rizdi\\miniconda3\\envs\\feature_engineering\\lib\\site-packages\\sklearn\\linear_model\\_ridge.py:212: LinAlgWarning: Ill-conditioned matrix (rcond=8.55049e-09): result may not be accurate.\n",
      "  return linalg.solve(A, Xy, sym_pos=True, overwrite_a=True).T\n",
      "\n",
      "C:\\Users\\rizdi\\miniconda3\\envs\\feature_engineering\\lib\\site-packages\\sklearn\\linear_model\\_ridge.py:212: LinAlgWarning: Ill-conditioned matrix (rcond=1.14922e-08): result may not be accurate.\n",
      "  return linalg.solve(A, Xy, sym_pos=True, overwrite_a=True).T\n",
      "\n",
      "C:\\Users\\rizdi\\miniconda3\\envs\\feature_engineering\\lib\\site-packages\\sklearn\\linear_model\\_ridge.py:212: LinAlgWarning: Ill-conditioned matrix (rcond=1.0915e-08): result may not be accurate.\n",
      "  return linalg.solve(A, Xy, sym_pos=True, overwrite_a=True).T\n",
      "\n",
      "C:\\Users\\rizdi\\miniconda3\\envs\\feature_engineering\\lib\\site-packages\\sklearn\\linear_model\\_ridge.py:212: LinAlgWarning: Ill-conditioned matrix (rcond=1.08858e-08): result may not be accurate.\n",
      "  return linalg.solve(A, Xy, sym_pos=True, overwrite_a=True).T\n",
      "\n",
      "C:\\Users\\rizdi\\miniconda3\\envs\\feature_engineering\\lib\\site-packages\\sklearn\\linear_model\\_ridge.py:212: LinAlgWarning: Ill-conditioned matrix (rcond=8.78367e-09): result may not be accurate.\n",
      "  return linalg.solve(A, Xy, sym_pos=True, overwrite_a=True).T\n",
      "\n"
     ]
    },
    {
     "name": "stdout",
     "output_type": "stream",
     "text": [
      " 87%|████████████████████████████████████████      | 87/100 [00:03<00:00, 25.76trial/s, best loss: -3.8113374663402504]"
     ]
    },
    {
     "name": "stderr",
     "output_type": "stream",
     "text": [
      "C:\\Users\\rizdi\\miniconda3\\envs\\feature_engineering\\lib\\site-packages\\sklearn\\linear_model\\_ridge.py:212: LinAlgWarning: Ill-conditioned matrix (rcond=8.36563e-09): result may not be accurate.\n",
      "  return linalg.solve(A, Xy, sym_pos=True, overwrite_a=True).T\n",
      "\n",
      "C:\\Users\\rizdi\\miniconda3\\envs\\feature_engineering\\lib\\site-packages\\sklearn\\linear_model\\_ridge.py:212: LinAlgWarning: Ill-conditioned matrix (rcond=1.12943e-08): result may not be accurate.\n",
      "  return linalg.solve(A, Xy, sym_pos=True, overwrite_a=True).T\n",
      "\n",
      "C:\\Users\\rizdi\\miniconda3\\envs\\feature_engineering\\lib\\site-packages\\sklearn\\linear_model\\_ridge.py:212: LinAlgWarning: Ill-conditioned matrix (rcond=1.07166e-08): result may not be accurate.\n",
      "  return linalg.solve(A, Xy, sym_pos=True, overwrite_a=True).T\n",
      "\n",
      "C:\\Users\\rizdi\\miniconda3\\envs\\feature_engineering\\lib\\site-packages\\sklearn\\linear_model\\_ridge.py:212: LinAlgWarning: Ill-conditioned matrix (rcond=1.06727e-08): result may not be accurate.\n",
      "  return linalg.solve(A, Xy, sym_pos=True, overwrite_a=True).T\n",
      "\n",
      "C:\\Users\\rizdi\\miniconda3\\envs\\feature_engineering\\lib\\site-packages\\sklearn\\linear_model\\_ridge.py:212: LinAlgWarning: Ill-conditioned matrix (rcond=8.57253e-09): result may not be accurate.\n",
      "  return linalg.solve(A, Xy, sym_pos=True, overwrite_a=True).T\n",
      "\n",
      "C:\\Users\\rizdi\\miniconda3\\envs\\feature_engineering\\lib\\site-packages\\sklearn\\linear_model\\_ridge.py:212: LinAlgWarning: Ill-conditioned matrix (rcond=5.21396e-09): result may not be accurate.\n",
      "  return linalg.solve(A, Xy, sym_pos=True, overwrite_a=True).T\n",
      "\n",
      "C:\\Users\\rizdi\\miniconda3\\envs\\feature_engineering\\lib\\site-packages\\sklearn\\linear_model\\_ridge.py:212: LinAlgWarning: Ill-conditioned matrix (rcond=7.68949e-09): result may not be accurate.\n",
      "  return linalg.solve(A, Xy, sym_pos=True, overwrite_a=True).T\n",
      "\n",
      "C:\\Users\\rizdi\\miniconda3\\envs\\feature_engineering\\lib\\site-packages\\sklearn\\linear_model\\_ridge.py:212: LinAlgWarning: Ill-conditioned matrix (rcond=7.45367e-09): result may not be accurate.\n",
      "  return linalg.solve(A, Xy, sym_pos=True, overwrite_a=True).T\n",
      "\n",
      "C:\\Users\\rizdi\\miniconda3\\envs\\feature_engineering\\lib\\site-packages\\sklearn\\linear_model\\_ridge.py:212: LinAlgWarning: Ill-conditioned matrix (rcond=7.20754e-09): result may not be accurate.\n",
      "  return linalg.solve(A, Xy, sym_pos=True, overwrite_a=True).T\n",
      "\n",
      "C:\\Users\\rizdi\\miniconda3\\envs\\feature_engineering\\lib\\site-packages\\sklearn\\linear_model\\_ridge.py:212: LinAlgWarning: Ill-conditioned matrix (rcond=4.97174e-09): result may not be accurate.\n",
      "  return linalg.solve(A, Xy, sym_pos=True, overwrite_a=True).T\n",
      "\n"
     ]
    },
    {
     "name": "stdout",
     "output_type": "stream",
     "text": [
      " 96%|████████████████████████████████████████████▏ | 96/100 [00:03<00:00, 24.88trial/s, best loss: -3.8113374663402504]"
     ]
    },
    {
     "name": "stderr",
     "output_type": "stream",
     "text": [
      "C:\\Users\\rizdi\\miniconda3\\envs\\feature_engineering\\lib\\site-packages\\sklearn\\linear_model\\_ridge.py:212: LinAlgWarning: Ill-conditioned matrix (rcond=4.91709e-08): result may not be accurate.\n",
      "  return linalg.solve(A, Xy, sym_pos=True, overwrite_a=True).T\n",
      "\n",
      "C:\\Users\\rizdi\\miniconda3\\envs\\feature_engineering\\lib\\site-packages\\sklearn\\linear_model\\_ridge.py:212: LinAlgWarning: Ill-conditioned matrix (rcond=4.86735e-08): result may not be accurate.\n",
      "  return linalg.solve(A, Xy, sym_pos=True, overwrite_a=True).T\n",
      "\n",
      "C:\\Users\\rizdi\\miniconda3\\envs\\feature_engineering\\lib\\site-packages\\sklearn\\linear_model\\_ridge.py:212: LinAlgWarning: Ill-conditioned matrix (rcond=4.94932e-08): result may not be accurate.\n",
      "  return linalg.solve(A, Xy, sym_pos=True, overwrite_a=True).T\n",
      "\n",
      "C:\\Users\\rizdi\\miniconda3\\envs\\feature_engineering\\lib\\site-packages\\sklearn\\linear_model\\_ridge.py:212: LinAlgWarning: Ill-conditioned matrix (rcond=4.99252e-08): result may not be accurate.\n",
      "  return linalg.solve(A, Xy, sym_pos=True, overwrite_a=True).T\n",
      "\n",
      "C:\\Users\\rizdi\\miniconda3\\envs\\feature_engineering\\lib\\site-packages\\sklearn\\linear_model\\_ridge.py:212: LinAlgWarning: Ill-conditioned matrix (rcond=4.99776e-08): result may not be accurate.\n",
      "  return linalg.solve(A, Xy, sym_pos=True, overwrite_a=True).T\n",
      "\n",
      "C:\\Users\\rizdi\\miniconda3\\envs\\feature_engineering\\lib\\site-packages\\sklearn\\linear_model\\_ridge.py:212: LinAlgWarning: Ill-conditioned matrix (rcond=6.99562e-09): result may not be accurate.\n",
      "  return linalg.solve(A, Xy, sym_pos=True, overwrite_a=True).T\n",
      "\n",
      "C:\\Users\\rizdi\\miniconda3\\envs\\feature_engineering\\lib\\site-packages\\sklearn\\linear_model\\_ridge.py:212: LinAlgWarning: Ill-conditioned matrix (rcond=9.85643e-09): result may not be accurate.\n",
      "  return linalg.solve(A, Xy, sym_pos=True, overwrite_a=True).T\n",
      "\n",
      "C:\\Users\\rizdi\\miniconda3\\envs\\feature_engineering\\lib\\site-packages\\sklearn\\linear_model\\_ridge.py:212: LinAlgWarning: Ill-conditioned matrix (rcond=9.30886e-09): result may not be accurate.\n",
      "  return linalg.solve(A, Xy, sym_pos=True, overwrite_a=True).T\n",
      "\n",
      "C:\\Users\\rizdi\\miniconda3\\envs\\feature_engineering\\lib\\site-packages\\sklearn\\linear_model\\_ridge.py:212: LinAlgWarning: Ill-conditioned matrix (rcond=9.17529e-09): result may not be accurate.\n",
      "  return linalg.solve(A, Xy, sym_pos=True, overwrite_a=True).T\n",
      "\n",
      "C:\\Users\\rizdi\\miniconda3\\envs\\feature_engineering\\lib\\site-packages\\sklearn\\linear_model\\_ridge.py:212: LinAlgWarning: Ill-conditioned matrix (rcond=7.00601e-09): result may not be accurate.\n",
      "  return linalg.solve(A, Xy, sym_pos=True, overwrite_a=True).T\n",
      "\n"
     ]
    },
    {
     "name": "stdout",
     "output_type": "stream",
     "text": [
      "100%|█████████████████████████████████████████████| 100/100 [00:04<00:00, 24.15trial/s, best loss: -3.8113374663402504]\n"
     ]
    }
   ],
   "source": [
    "best_result_ridge = fmin(\n",
    "                fn=objective, \n",
    "                space=search_space,\n",
    "                algo=tpe.suggest,\n",
    "                trials=Trials(),\n",
    "                max_evals=100)"
   ]
  },
  {
   "cell_type": "code",
   "execution_count": 56,
   "metadata": {},
   "outputs": [
    {
     "data": {
      "text/plain": [
       "{'alpha': 0.05240704639688512,\n",
       " 'fit_intercept': False,\n",
       " 'solver': 'sag',\n",
       " 'tol': 0.09896748769827081}"
      ]
     },
     "execution_count": 56,
     "metadata": {},
     "output_type": "execute_result"
    }
   ],
   "source": [
    "hyperopt.space_eval(search_space, best_result_ridge)"
   ]
  },
  {
   "cell_type": "code",
   "execution_count": null,
   "metadata": {},
   "outputs": [],
   "source": []
  }
 ],
 "metadata": {
  "kernelspec": {
   "display_name": "Python [conda env:feature_engineering]",
   "language": "python",
   "name": "conda-env-feature_engineering-py"
  },
  "language_info": {
   "codemirror_mode": {
    "name": "ipython",
    "version": 3
   },
   "file_extension": ".py",
   "mimetype": "text/x-python",
   "name": "python",
   "nbconvert_exporter": "python",
   "pygments_lexer": "ipython3",
   "version": "3.10.8"
  }
 },
 "nbformat": 4,
 "nbformat_minor": 4
}
