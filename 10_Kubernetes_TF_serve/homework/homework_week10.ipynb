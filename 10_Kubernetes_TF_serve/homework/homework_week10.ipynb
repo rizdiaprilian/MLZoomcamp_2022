{
 "cells": [
  {
   "cell_type": "markdown",
   "metadata": {},
   "source": [
    "### Homework Week 10"
   ]
  },
  {
   "cell_type": "markdown",
   "metadata": {},
   "source": [
    "### Question 1\n",
    "\n",
    "Here <value> is the probability of getting a credit card. You need to choose the right one.\n",
    "\n",
    "#### Answer:  0.769\n",
    "\n"
   ]
  },
  {
   "cell_type": "code",
   "execution_count": null,
   "metadata": {},
   "outputs": [],
   "source": [
    "#### Question 2\n",
    "\n",
    "What's the version of kind that you have?\n",
    "\n"
   ]
  },
  {
   "cell_type": "markdown",
   "metadata": {},
   "source": [
    "### Question 3\n",
    "\n",
    "What's the smallest deployable computing unit that we can create and manage in Kubernetes (kind in our case)?\n",
    "\n",
    "#### Answer:\n",
    "    Node\n",
    "    Pod\n",
    "    Deployment\n",
    "    Service\n"
   ]
  },
  {
   "cell_type": "markdown",
   "metadata": {},
   "source": [
    "### Question 4\n",
    "\n",
    "What's the Type of the service that is already running there?\n",
    "\n",
    "#### Answer: \n",
    "    ClusterIP\n",
    "    NodePort\n",
    "    LoadBalancer\n",
    "    ExternalName\n"
   ]
  },
  {
   "cell_type": "code",
   "execution_count": null,
   "metadata": {},
   "outputs": [],
   "source": []
  },
  {
   "cell_type": "code",
   "execution_count": null,
   "metadata": {},
   "outputs": [],
   "source": []
  }
 ],
 "metadata": {
  "kernelspec": {
   "display_name": "Python 3.9.13 ('10_Kubernetes_TF_serve-dw37jVZY')",
   "language": "python",
   "name": "python3"
  },
  "language_info": {
   "name": "python",
   "version": "3.9.13"
  },
  "orig_nbformat": 4,
  "vscode": {
   "interpreter": {
    "hash": "6b636831fbce3666283e9876ef55a468a4744b77a944cee1eb0a01078d12cf08"
   }
  }
 },
 "nbformat": 4,
 "nbformat_minor": 2
}
